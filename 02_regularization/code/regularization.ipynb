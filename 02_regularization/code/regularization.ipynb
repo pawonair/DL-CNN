{
 "cells": [
  {
   "cell_type": "markdown",
   "source": [
    "# Regularization \\[8 points\\]"
   ],
   "metadata": {
    "collapsed": false,
    "pycharm": {
     "name": "#%% md\n"
    }
   }
  },
  {
   "cell_type": "markdown",
   "source": [
    "<b><span style=\"color:#00CED1\">Association:</span></b>\n",
    "<span style=\"color:#00CED1\">Otto-Friedrich University of Bamberg</span>\n",
    "<span style=\"color:#00CED1\">Chair of Explainable Machine Learning (xAI)</span>\n",
    "<span style=\"color:#00CED1\">Deep Learning Assignments</span>\n",
    "\n",
    "<b><span style=\"color:#00CED1\">Description:</span></b>\n",
    "<span style=\"color:#00CED1\">This notebook introduces regularization to our models. In particular we will learn about L2 regularization and dropout.</span>\n",
    "<span style=\"color:#00CED1\">Students will implement all of those and learn how each of them lead to different results.</span>\n",
    "\n",
    "<span style=\"color:#00CED1\"><b>Author:</b> Sebastian Doerrich</span>\n",
    "<span style=\"color:#00CED1\"><b>Copyright:</b> Copyright (c) 2022, Chair of Explainable Machine Learning (xAI), Otto-Friedrich University of Bamberg</span>\n",
    "<span style=\"color:#00CED1\"><b>Credits:</b> Christian Ledig, Sebastian Doerrich</span>\n",
    "<span style=\"color:#00CED1\"><b>License:</b> CC BY-SA</span>\n",
    "<span style=\"color:#00CED1\"><b>Version:</b> 1.0</span>\n",
    "<span style=\"color:#00CED1\"><b>Python:</b> Python 3</span>\n",
    "<span style=\"color:#00CED1\"><b>Maintainer:</b> Sebastian Doerrich</span>\n",
    "<span style=\"color:#00CED1\"><b>Email:</b> sebastian.doerrich@uni-bamberg.de</span>\n",
    "<span style=\"color:#00CED1\"><b>Status:</b> Production</span>"
   ],
   "metadata": {
    "collapsed": false,
    "pycharm": {
     "name": "#%% md\n"
    }
   }
  },
  {
   "cell_type": "markdown",
   "metadata": {
    "pycharm": {
     "name": "#%% md\n"
    }
   },
   "source": [
    "## Context\n",
    "Welcome to this part of your fourth programming assignment.\n",
    "In this part you will learn how to use regularization in your deep learning models.\n",
    "\n",
    "## Motivation\n",
    "Deep Learning models have so much flexibility and capacity that **overfitting can be a serious problem**, if the training dataset is not big enough. Sure your model might do well on the training set, but it **doesn't generalize to new examples** that it has never seen! Regularization helps to deal with this.\n",
    "\n",
    "Let's get started!\n",
    "\n",
    "## Instructions\n",
    "- You will be using Python 3.\n",
    "- After coding your function, run the cell right below it to check if your result is correct.\n",
    "\n",
    "## Important Notes for Your Submission\n",
    "Before submitting your assignment, please make sure you are not doing the following:\n",
    "\n",
    "1. You have not added any _extra_ `print` statement(s) in the assignment.\n",
    "2. You have not added any _extra_ code cell(s) in the assignment.\n",
    "3. You have not changed any of the function parameters.\n",
    "4. You are not using any global variables inside your graded exercises. Unless specifically instructed to do so, please refrain from it and use the local variables instead.\n",
    "5. You are not changing the assignment code where it is not required, like creating _extra_ variables.\n",
    "\n",
    "If you do any of the mentioned, our test scripts will fail and as a result you will receive **0 points** for the respective task.\n",
    "\n",
    "## Table of Contents\n",
    "- [0 - Import the Necessary Libraries](#0)\n",
    "- [1 - Visualization](#1)\n",
    "- [2 - Utils](#2)\n",
    "- [3 - Problem Statement](#3)\n",
    "- [4 - Data Loading](#4)\n",
    "- [5 - Model](#5)\n",
    "- [6 - Non-Regularized Model](#6)\n",
    "    - [6.1 - Analyzing the Non-Regularized Model](#6-1)\n",
    "- [7 - L2 Regularization](#7)\n",
    "    - [7.1 - Cost Function](#7-1)\n",
    "    - [7.2 - Backward Propagation with Regularization](#7-2)\n",
    "    - [7.3 - Let’s now run the model with L2 regularization](#7-3)\n",
    "    - [7.4 - Analyzing L2 regularization](#7-4)\n",
    "- [8 - Dropout](#8)\n",
    "    - [8.1 - Forward Propagation with Dropout](#8-1)\n",
    "    - [8.2 - Backward Propagation with Dropout](#8-2)\n",
    "    - [8.3 - Let’s now run the model with Dropout](#8-3)\n",
    "    - [8.4 - Analyzing Dropout](#8-4)\n",
    "- [9 - Conclusions](#9)\n",
    "- [10 - End of Exercise](#10)"
   ]
  },
  {
   "cell_type": "markdown",
   "source": [
    "<a name='0'></a>\n",
    "## 0 - Import the Necessary Libraries ##"
   ],
   "metadata": {
    "collapsed": false,
    "pycharm": {
     "name": "#%% md\n"
    }
   }
  },
  {
   "cell_type": "code",
   "execution_count": null,
   "outputs": [],
   "source": [
    "# Import packages\n",
    "import numpy as np\n",
    "import scipy.io\n",
    "import warnings\n",
    "\n",
    "import matplotlib.pyplot as plt\n",
    "%matplotlib inline\n",
    "\n",
    "#suppress warnings\n",
    "warnings.filterwarnings('ignore')"
   ],
   "metadata": {
    "collapsed": false,
    "pycharm": {
     "name": "#%%\n"
    }
   }
  },
  {
   "cell_type": "markdown",
   "source": [],
   "metadata": {
    "collapsed": false
   }
  },
  {
   "cell_type": "markdown",
   "source": [
    "<a id='1'></a>\n",
    "## 1 - Visualization ##\n",
    "\n",
    "These functions will be used for visualization. We provide those for you, so you can plot your results. You don't have to code anything here."
   ],
   "metadata": {
    "collapsed": false,
    "pycharm": {
     "name": "#%% md\n"
    }
   }
  },
  {
   "cell_type": "code",
   "execution_count": null,
   "outputs": [],
   "source": [
    "class Visualization:\n",
    "    \"\"\"\n",
    "    This class is used to collect all visualizations.\n",
    "    \"\"\"\n",
    "\n",
    "    @staticmethod\n",
    "    def visualize_the_data(train_X: np.ndarray, train_Y: np.ndarray, test_X: np.ndarray, test_Y: np.ndarray, scale=40, cmap=plt.cm.Spectral):\n",
    "        \"\"\"\n",
    "        Visualize the samples.\n",
    "\n",
    "        :param train_X: Training samples.\n",
    "        :param train_Y: Training Labels.\n",
    "        :param test_X: Test samples.\n",
    "        :param test_Y: Test labels.\n",
    "        :param scale: The marker size.\n",
    "        :param cmap: The Colormap instance or registered colormap name used to map scalar data to colors.\n",
    "        \"\"\"\n",
    "\n",
    "        # Create both plots\n",
    "        _, (train_ax, test_ax) = plt.subplots(ncols=2, sharex=True, sharey=True, figsize=(32, 8))\n",
    "\n",
    "        # Create plot for the training samples\n",
    "        train_scatter = train_ax.scatter(train_X[0, :], train_X[1, :], c=train_Y, s=scale, cmap=cmap, label=[0, 1])\n",
    "        train_ax.set_ylabel(\"Width of the pitch\")\n",
    "        train_ax.set_xlabel(\"Length of the pitch\")\n",
    "        train_ax.set_title(\"Training data\")\n",
    "        elements, labels = train_scatter.legend_elements()\n",
    "        train_ax_legend = train_ax.legend(elements, ['Other Player', 'French Player'], title=\"Player Received the Ball\")\n",
    "        train_ax.add_artist(train_ax_legend)\n",
    "\n",
    "        # Create the plot for the test samples\n",
    "        test_scatter = test_ax.scatter(test_X[0, :], test_X[1, :], c=test_Y, s=scale, cmap=cmap, label=[0, 1])\n",
    "        train_ax.set_ylabel(\"Width of the pitch\")\n",
    "        test_ax.set_xlabel(\"Length of the pitch\")\n",
    "        test_ax.set_title(\"Test data\")\n",
    "        elements, labels = test_scatter.legend_elements()\n",
    "        test_ax_legend = test_ax.legend(elements, ['Other Player', 'French Player'], title=\"Player Received the Ball\")\n",
    "        test_ax.add_artist(test_ax_legend)\n",
    "\n",
    "    @staticmethod\n",
    "    def plot_the_cost(iterations: list, costs: list):\n",
    "        \"\"\"\n",
    "        Plot the cost of the network during training.\n",
    "\n",
    "        :param iterations: Training iterations in the form [0, 1000, 2000, ..., 15000].\n",
    "        :param costs: Costs of the network for each training iteration.\n",
    "        \"\"\"\n",
    "\n",
    "        # Plot the cost\n",
    "        plt.plot(iterations, costs, label='cost')\n",
    "        plt.ylabel('Cost')\n",
    "        plt.xlabel('Iterations')\n",
    "        plt.title(\"Training Curve\")\n",
    "        plt.legend()\n",
    "\n",
    "    @staticmethod\n",
    "    def plot_decision_boundaries(Z_train: np.ndarray, X_train: np.ndarray, Y_train: np.ndarray, Z_test: np.ndarray, X_test: np.ndarray, Y_test: np.ndarray):\n",
    "        \"\"\"\n",
    "        Plot the decision boundary of the model.\n",
    "\n",
    "        :param Z_train: Training Decision Function.\n",
    "        :param X_train: Training amples.\n",
    "        :param Y_train: Training Labels.\n",
    "        :param Z_test: Test Decision Function.\n",
    "        :param X_test: Test amples.\n",
    "        :param Y_test: Test Labels.\n",
    "        \"\"\"\n",
    "\n",
    "        # Create both plots\n",
    "        _, (train_ax, test_ax) = plt.subplots(ncols=2, sharex=True, sharey=True, figsize=(32, 8))\n",
    "\n",
    "        # Initialize the hyperparameters\n",
    "        h = 0.01\n",
    "\n",
    "        # Set min and max values and give it some padding\n",
    "        x_min_train, x_max_train = X_train[0, :].min() - 1, X_train[0, :].max() + 1\n",
    "        y_min_train, y_max_train = X_train[1, :].min() - 1, X_train[1, :].max() + 1\n",
    "\n",
    "        x_min_test, x_max_test = X_test[0, :].min() - 1, X_test[0, :].max() + 1\n",
    "        y_min_test, y_max_test = X_test[1, :].min() - 1, X_test[1, :].max() + 1\n",
    "\n",
    "        # Generate a grid of points with distance h between them\n",
    "        xx_train, yy_train = np.meshgrid(np.arange(x_min_train, x_max_train, h), np.arange(y_min_train, y_max_train, h))\n",
    "        xx_test, yy_test = np.meshgrid(np.arange(x_min_test, x_max_test, h), np.arange(y_min_test, y_max_test, h))\n",
    "\n",
    "        # Plot the decision boundary and training samples\n",
    "        train_ax.set_ylabel(\"Width of the pitch\")\n",
    "        train_ax.set_xlabel(\"Length of the pitch\")\n",
    "        train_ax.set_title(\"Decision Boundary of the Model for the Training Data\")\n",
    "\n",
    "        train_ax.set_xlim([-0.75,0.40])\n",
    "        train_ax.set_ylim([-0.75,0.65])\n",
    "\n",
    "        train_ax.contourf(xx_train, yy_train, Z_train, cmap=plt.cm.Spectral)\n",
    "        train_scatter = train_ax.scatter(X_train[0, :], X_train[1, :], c=Y_train, cmap=plt.cm.Spectral)\n",
    "\n",
    "        elements, labels = train_scatter.legend_elements()\n",
    "        train_ax_legend = train_ax.legend(elements, ['Other Player', 'French Player'], title=\"Player Received the Ball\")\n",
    "        train_ax.add_artist(train_ax_legend)\n",
    "\n",
    "        # Plot the decision boundary and test samples\n",
    "        test_ax.set_ylabel(\"Width of the pitch\")\n",
    "        test_ax.set_xlabel(\"Length of the pitch\")\n",
    "        test_ax.set_title(\"Decision Boundary of the Model for the Test Data\")\n",
    "\n",
    "        test_ax.set_xlim([-0.75,0.40])\n",
    "        test_ax.set_ylim([-0.75,0.65])\n",
    "\n",
    "        test_ax.contourf(xx_test, yy_test, Z_test, cmap=plt.cm.Spectral)\n",
    "        test_scatter = test_ax.scatter(X_test[0, :], X_test[1, :], c=Y_test, cmap=plt.cm.Spectral)\n",
    "\n",
    "        elements, labels = test_scatter.legend_elements()\n",
    "        test_ax_legend = test_ax.legend(elements, ['Other Player', 'French Player'], title=\"Player Received the Ball\")\n",
    "        test_ax.add_artist(test_ax_legend)"
   ],
   "metadata": {
    "collapsed": false,
    "pycharm": {
     "name": "#%%\n"
    }
   }
  },
  {
   "cell_type": "markdown",
   "source": [],
   "metadata": {
    "collapsed": false
   }
  },
  {
   "cell_type": "markdown",
   "source": [
    "<a id='2'></a>\n",
    "## 2 - Utils ##\n",
    "\n",
    "These functions will be used as helper functions throughout the entire notebook. We provide those for you, so you can focus on the regularization task at hand. You don't have to code anything here."
   ],
   "metadata": {
    "collapsed": false,
    "pycharm": {
     "name": "#%% md\n"
    }
   }
  },
  {
   "cell_type": "code",
   "execution_count": null,
   "outputs": [],
   "source": [
    "class Utils:\n",
    "    \"\"\"\n",
    "    This class collects helper functions for the notebook.\n",
    "    \"\"\"\n",
    "\n",
    "    @staticmethod\n",
    "    def sigmoid(x):\n",
    "        \"\"\"\n",
    "        Compute the sigmoid of x\n",
    "\n",
    "        Arguments:\n",
    "        x -- A scalar or numpy array of any size.\n",
    "\n",
    "        Return:\n",
    "        s -- sigmoid(x)\n",
    "        \"\"\"\n",
    "        s = 1/(1+np.exp(-x))\n",
    "        return s\n",
    "\n",
    "    @staticmethod\n",
    "    def relu(x):\n",
    "        \"\"\"\n",
    "        Compute the relu of x\n",
    "\n",
    "        Arguments:\n",
    "        x -- A scalar or numpy array of any size.\n",
    "\n",
    "        Return:\n",
    "        s -- relu(x)\n",
    "        \"\"\"\n",
    "        s = np.maximum(0,x)\n",
    "\n",
    "        return s\n",
    "\n",
    "    @staticmethod\n",
    "    def load_planar_dataset(seed):\n",
    "\n",
    "        np.random.seed(seed)\n",
    "\n",
    "        m = 400 # number of examples\n",
    "        N = int(m/2) # number of points per class\n",
    "        D = 2 # dimensionality\n",
    "        X = np.zeros((m,D)) # data matrix where each row is a single example\n",
    "        Y = np.zeros((m,1), dtype='uint8') # labels vector (0 for red, 1 for blue)\n",
    "        a = 4 # maximum ray of the flower\n",
    "\n",
    "        for j in range(2):\n",
    "            ix = range(N*j,N*(j+1))\n",
    "            t = np.linspace(j*3.12,(j+1)*3.12,N) + np.random.randn(N)*0.2 # theta\n",
    "            r = a*np.sin(4*t) + np.random.randn(N)*0.2 # radius\n",
    "            X[ix] = np.c_[r*np.sin(t), r*np.cos(t)]\n",
    "            Y[ix] = j\n",
    "\n",
    "        X = X.T\n",
    "        Y = Y.T\n",
    "\n",
    "        return X, Y\n",
    "\n",
    "    @staticmethod\n",
    "    def initialize_parameters(layer_dims):\n",
    "        \"\"\"\n",
    "        Arguments:\n",
    "        layer_dims -- python array (list) containing the dimensions of each layer in our network\n",
    "\n",
    "        Returns:\n",
    "        parameters -- python dictionary containing your parameters \"W1\", \"b1\", ..., \"WL\", \"bL\":\n",
    "                        W1 -- weight matrix of shape (layer_dims[l], layer_dims[l-1])\n",
    "                        b1 -- bias vector of shape (layer_dims[l], 1)\n",
    "                        Wl -- weight matrix of shape (layer_dims[l-1], layer_dims[l])\n",
    "                        bl -- bias vector of shape (1, layer_dims[l])\n",
    "\n",
    "        Tips:\n",
    "        - For example: the layer_dims for the \"Planar Data classification model\" would have been [2,2,1].\n",
    "        This means W1's shape was (2,2), b1 was (1,2), W2 was (2,1) and b2 was (1,1). Now you have to generalize it!\n",
    "        - In the for loop, use parameters['W' + str(l)] to access Wl, where l is the iterative integer.\n",
    "        \"\"\"\n",
    "\n",
    "        np.random.seed(3)\n",
    "        parameters = {}\n",
    "        L = len(layer_dims) # number of layers in the network\n",
    "\n",
    "        for l in range(1, L):\n",
    "            parameters['W' + str(l)] = np.random.randn(layer_dims[l], layer_dims[l-1]) / np.sqrt(layer_dims[l-1])\n",
    "            parameters['b' + str(l)] = np.zeros((layer_dims[l], 1))\n",
    "\n",
    "            assert(parameters['W' + str(l)].shape == (layer_dims[l], layer_dims[l-1]))\n",
    "            assert(parameters['b' + str(l)].shape == (layer_dims[l], 1))\n",
    "\n",
    "\n",
    "        return parameters\n",
    "\n",
    "    @staticmethod\n",
    "    def forward_propagation(X, parameters):\n",
    "        \"\"\"\n",
    "        Implements the forward propagation (and computes the loss) presented in Figure 2.\n",
    "\n",
    "        Arguments:\n",
    "        X -- input dataset, of shape (input size, number of examples)\n",
    "        parameters -- python dictionary containing your parameters \"W1\", \"b1\", \"W2\", \"b2\", \"W3\", \"b3\":\n",
    "                        W1 -- weight matrix of shape ()\n",
    "                        b1 -- bias vector of shape ()\n",
    "                        W2 -- weight matrix of shape ()\n",
    "                        b2 -- bias vector of shape ()\n",
    "                        W3 -- weight matrix of shape ()\n",
    "                        b3 -- bias vector of shape ()\n",
    "\n",
    "        Returns:\n",
    "        loss -- the loss function (vanilla logistic loss)\n",
    "        \"\"\"\n",
    "\n",
    "        # retrieve parameters\n",
    "        W1 = parameters[\"W1\"]\n",
    "        b1 = parameters[\"b1\"]\n",
    "        W2 = parameters[\"W2\"]\n",
    "        b2 = parameters[\"b2\"]\n",
    "        W3 = parameters[\"W3\"]\n",
    "        b3 = parameters[\"b3\"]\n",
    "\n",
    "        # LINEAR -> RELU -> LINEAR -> RELU -> LINEAR -> SIGMOID\n",
    "        Z1 = np.dot(W1, X) + b1\n",
    "        A1 = Utils.relu(Z1)\n",
    "        Z2 = np.dot(W2, A1) + b2\n",
    "        A2 = Utils.relu(Z2)\n",
    "        Z3 = np.dot(W3, A2) + b3\n",
    "        A3 = Utils.sigmoid(Z3)\n",
    "\n",
    "        cache = (Z1, A1, W1, b1, Z2, A2, W2, b2, Z3, A3, W3, b3)\n",
    "\n",
    "        return A3, cache\n",
    "\n",
    "    @staticmethod\n",
    "    def backward_propagation(X, Y, cache):\n",
    "        \"\"\"\n",
    "        Implement the backward propagation presented in figure 2.\n",
    "\n",
    "        Arguments:\n",
    "        X -- input dataset, of shape (input size, number of examples)\n",
    "        Y -- true \"label\" vector (containing 0 if cat, 1 if non-cat)\n",
    "        cache -- cache output from forward_propagation()\n",
    "\n",
    "        Returns:\n",
    "        gradients -- A dictionary with the gradients with respect to each parameter, activation and pre-activation variables\n",
    "        \"\"\"\n",
    "        m = X.shape[1]\n",
    "        (Z1, A1, W1, b1, Z2, A2, W2, b2, Z3, A3, W3, b3) = cache\n",
    "\n",
    "        dZ3 = A3 - Y\n",
    "        dW3 = 1./m * np.dot(dZ3, A2.T)\n",
    "        db3 = 1./m * np.sum(dZ3, axis=1, keepdims = True)\n",
    "\n",
    "        dA2 = np.dot(W3.T, dZ3)\n",
    "        dZ2 = np.multiply(dA2, np.int64(A2 > 0))\n",
    "        dW2 = 1./m * np.dot(dZ2, A1.T)\n",
    "        db2 = 1./m * np.sum(dZ2, axis=1, keepdims = True)\n",
    "\n",
    "        dA1 = np.dot(W2.T, dZ2)\n",
    "        dZ1 = np.multiply(dA1, np.int64(A1 > 0))\n",
    "        dW1 = 1./m * np.dot(dZ1, X.T)\n",
    "        db1 = 1./m * np.sum(dZ1, axis=1, keepdims = True)\n",
    "\n",
    "        gradients = {\"dZ3\": dZ3, \"dW3\": dW3, \"db3\": db3,\n",
    "                     \"dA2\": dA2, \"dZ2\": dZ2, \"dW2\": dW2, \"db2\": db2,\n",
    "                     \"dA1\": dA1, \"dZ1\": dZ1, \"dW1\": dW1, \"db1\": db1}\n",
    "\n",
    "        return gradients\n",
    "\n",
    "    @staticmethod\n",
    "    def update_parameters(parameters, grads, learning_rate):\n",
    "        \"\"\"\n",
    "        Update parameters using gradient descent\n",
    "\n",
    "        Arguments:\n",
    "        parameters -- python dictionary containing your parameters:\n",
    "                        parameters['W' + str(i)] = Wi\n",
    "                        parameters['b' + str(i)] = bi\n",
    "        grads -- python dictionary containing your gradients for each parameters:\n",
    "                        grads['dW' + str(i)] = dWi\n",
    "                        grads['db' + str(i)] = dbi\n",
    "        learning_rate -- the learning rate, scalar.\n",
    "\n",
    "        Returns:\n",
    "        parameters -- python dictionary containing your updated parameters\n",
    "        \"\"\"\n",
    "\n",
    "        n = len(parameters) // 2 # number of layers in the neural networks\n",
    "\n",
    "        # Update rule for each parameter\n",
    "        for k in range(n):\n",
    "            parameters[\"W\" + str(k+1)] = parameters[\"W\" + str(k+1)] - learning_rate * grads[\"dW\" + str(k+1)]\n",
    "            parameters[\"b\" + str(k+1)] = parameters[\"b\" + str(k+1)] - learning_rate * grads[\"db\" + str(k+1)]\n",
    "\n",
    "        return parameters\n",
    "\n",
    "    @staticmethod\n",
    "    def predict(X, y, parameters, train=True):\n",
    "        \"\"\"\n",
    "        This function is used to predict the results of a  n-layer neural network.\n",
    "\n",
    "        Arguments:\n",
    "        X -- data set of examples you would like to label\n",
    "        parameters -- parameters of the trained model\n",
    "        train -- train set given (boolean)\n",
    "\n",
    "        Returns:\n",
    "        p -- predictions for the given dataset X\n",
    "        \"\"\"\n",
    "\n",
    "        m = X.shape[1]\n",
    "        p = np.zeros((1,m), dtype=int)\n",
    "\n",
    "        # Forward propagation\n",
    "        a3, caches = Utils.forward_propagation(X, parameters)\n",
    "\n",
    "        # convert probas to 0/1 predictions\n",
    "        for i in range(0, a3.shape[1]):\n",
    "            if a3[0,i] > 0.5:\n",
    "                p[0,i] = 1\n",
    "            else:\n",
    "                p[0,i] = 0\n",
    "\n",
    "        # print results\n",
    "        if train:\n",
    "            print(\"Accuracy of the model on the train set: \" + str(np.mean((p[0,:] == y[0,:]))))\n",
    "\n",
    "        else:\n",
    "            print(\"Accuracy of the model on the test set: \" + str(np.mean((p[0,:] == y[0,:]))))\n",
    "\n",
    "        return p\n",
    "\n",
    "    @staticmethod\n",
    "    def compute_cost(a3, Y):\n",
    "        \"\"\"\n",
    "        Implement the cost function\n",
    "\n",
    "        Arguments:\n",
    "        a3 -- post-activation, output of forward propagation\n",
    "        Y -- \"true\" labels vector, same shape as a3\n",
    "\n",
    "        Returns:\n",
    "        cost - value of the cost function\n",
    "        \"\"\"\n",
    "        m = Y.shape[1]\n",
    "        logprobs = np.multiply(-np.log(a3, where=a3>0),Y) + np.multiply(-np.log(1 - a3, where=(1 - a3)>0), 1 - Y)\n",
    "        cost = 1./m * np.nansum(logprobs)\n",
    "\n",
    "        return cost\n",
    "\n",
    "    @staticmethod\n",
    "    def predict_dec(parameters, X):\n",
    "        \"\"\"\n",
    "        Used for plotting decision boundary.\n",
    "\n",
    "        Arguments:\n",
    "        parameters -- python dictionary containing your parameters\n",
    "        X -- input data of size (m, K)\n",
    "\n",
    "        Returns\n",
    "        predictions -- vector of predictions of our model (red: 0 / blue: 1)\n",
    "        \"\"\"\n",
    "\n",
    "        # Predict using forward propagation and a classification threshold of 0.5\n",
    "        a3, cache = Utils.forward_propagation(X, parameters)\n",
    "        predictions = (a3>0.5)\n",
    "        return predictions\n",
    "\n",
    "    @staticmethod\n",
    "    def load_planar_dataset(randomness, seed):\n",
    "\n",
    "        np.random.seed(seed)\n",
    "\n",
    "        m = 50\n",
    "        N = int(m/2) # number of points per class\n",
    "        D = 2 # dimensionality\n",
    "        X = np.zeros((m,D)) # data matrix where each row is a single example\n",
    "        Y = np.zeros((m,1), dtype='uint8') # labels vector (0 for red, 1 for blue)\n",
    "        a = 2 # maximum ray of the flower\n",
    "\n",
    "        for j in range(2):\n",
    "\n",
    "            ix = range(N*j,N*(j+1))\n",
    "            if j == 0:\n",
    "                t = np.linspace(j, 4*3.1415*(j+1),N) #+ np.random.randn(N)*randomness # theta\n",
    "                r = 0.3*np.square(t) + np.random.randn(N)*randomness # radius\n",
    "            if j == 1:\n",
    "                t = np.linspace(j, 2*3.1415*(j+1),N) #+ np.random.randn(N)*randomness # theta\n",
    "                r = 0.2*np.square(t) + np.random.randn(N)*randomness # radius\n",
    "\n",
    "            X[ix] = np.c_[r*np.cos(t), r*np.sin(t)]\n",
    "            Y[ix] = j\n",
    "\n",
    "        X = X.T\n",
    "        Y = Y.T\n",
    "\n",
    "        return X, Y\n",
    "\n",
    "    @staticmethod\n",
    "    def get_decision_boundary(model, X, y):\n",
    "        # Set min and max values and give it some padding\n",
    "        x_min, x_max = X[0, :].min() - 1, X[0, :].max() + 1\n",
    "        y_min, y_max = X[1, :].min() - 1, X[1, :].max() + 1\n",
    "        h = 0.01\n",
    "        # Generate a grid of points with distance h between them\n",
    "        xx, yy = np.meshgrid(np.arange(x_min, x_max, h), np.arange(y_min, y_max, h))\n",
    "        # Predict the function value for the whole grid\n",
    "        Z = model(np.c_[xx.ravel(), yy.ravel()])\n",
    "        Z = Z.reshape(xx.shape)\n",
    "\n",
    "        return Z"
   ],
   "metadata": {
    "collapsed": false,
    "pycharm": {
     "name": "#%%\n"
    }
   }
  },
  {
   "cell_type": "markdown",
   "source": [],
   "metadata": {
    "collapsed": false
   }
  },
  {
   "cell_type": "markdown",
   "source": [
    "<a id='3'></a>\n",
    "## 3 - Problem Statement ##\n",
    "\n",
    "You have just been hired as an AI expert by the French Football Corporation. They would like you to recommend positions where French's goal keeper should kick the ball so that the French team's players can then hit it with their head. This is illustrated in the figure below:\n",
    "\n",
    "<div>\n",
    "<img src=\"../img/field_kiank.png\" width=\"700\"/>\n",
    "</div>\n",
    "\n",
    "Within the figure you can see a Football field. The goal keeper kicks the ball in the air and the players of each team are fighting to hit the ball with their head.\n",
    "\n",
    "The French Football Corporation gives you the following 2D dataset from French's past 10 games."
   ],
   "metadata": {
    "collapsed": false,
    "pycharm": {
     "name": "#%% md\n"
    }
   }
  },
  {
   "cell_type": "markdown",
   "source": [
    "<a id='4'></a>\n",
    "## 4 - Data Loading ##\n",
    "\n",
    "First, we need to load our data. This step was already implemented for you below. You don’t have to code anything here."
   ],
   "metadata": {
    "collapsed": false,
    "pycharm": {
     "name": "#%% md\n"
    }
   }
  },
  {
   "cell_type": "code",
   "execution_count": null,
   "outputs": [],
   "source": [
    "class DataLoader:\n",
    "    \"\"\"\n",
    "    This class creates a data loader instance.\n",
    "    \"\"\"\n",
    "\n",
    "    def __init__(self, file_path_data: str):\n",
    "        \"\"\"\n",
    "        Constructor.\n",
    "\n",
    "        :param file_path_data: Path to the folder containing the data entries.\n",
    "        \"\"\"\n",
    "\n",
    "        self.file_path_data = file_path_data\n",
    "\n",
    "        self.train_X, self.train_Y, self.test_X, self.test_Y = None, None, None, None\n",
    "\n",
    "    def load_dataset(self):\n",
    "        \"\"\"\n",
    "        Load the train and test set.\n",
    "\n",
    "        :return:\n",
    "            - train_X: Training samples.\n",
    "            - train_Y: Training labels.\n",
    "            - test_X: Test samples.\n",
    "            - test_Y: Test labels.\n",
    "        \"\"\"\n",
    "\n",
    "        if not self.train_X:\n",
    "            data = scipy.io.loadmat(self.file_path_data)\n",
    "\n",
    "            self.train_X = data['X'].T\n",
    "            self.train_Y = data['y'].T\n",
    "            self.test_X = data['Xval'].T\n",
    "            self.test_Y = data['yval'].T\n",
    "\n",
    "        return self.train_X, self.train_Y, self.test_X, self.test_Y"
   ],
   "metadata": {
    "collapsed": false,
    "pycharm": {
     "name": "#%%\n"
    }
   }
  },
  {
   "cell_type": "code",
   "execution_count": null,
   "outputs": [],
   "source": [
    "# Run this cell to load and plot your data\n",
    "\n",
    "# Load the dataset\n",
    "data_path = '../data/data.mat'\n",
    "dataloader = DataLoader(data_path)\n",
    "train_X, train_Y, test_X, test_Y = dataloader.load_dataset()\n",
    "\n",
    "# Plot the dataset\n",
    "Visualization.visualize_the_data(train_X, train_Y, test_X, test_Y)"
   ],
   "metadata": {
    "collapsed": false,
    "pycharm": {
     "name": "#%%\n"
    }
   }
  },
  {
   "cell_type": "markdown",
   "source": [],
   "metadata": {
    "collapsed": false
   }
  },
  {
   "cell_type": "markdown",
   "source": [
    "Each dot corresponds to a position on the football field where a football player has hit the ball with his/her head after the French goal keeper has shot the ball from the left side of the football field.\n",
    "- If the dot is blue (purple for different color scheme), it means the French player managed to hit the ball with his/her head\n",
    "- If the dot is red (pink for different color scheme), it means the other team's player hit the ball with their head\n",
    "\n",
    "\n",
    "**Your goal is now**:\n",
    "To use a deep learning model to find the positions on the field where the goalkeeper should kick the ball.\n",
    "\n",
    "\n",
    "**First glance at the dataset**:\n",
    "This dataset is a little noisy, but it looks like a diagonal line separating the upper left half (blue/purple) from the lower right half (red/pink) would work well.\n",
    "\n",
    "\n",
    "**What you will do**:\n",
    "You will first try a non-regularized model. Then you'll learn how to regularize it and decide which model you will choose to solve the French Football Corporation's problem."
   ],
   "metadata": {
    "collapsed": false,
    "pycharm": {
     "name": "#%% md\n"
    }
   }
  },
  {
   "cell_type": "markdown",
   "source": [
    "<a name='5'></a>\n",
    "## 5 - Model\n",
    "\n",
    "You will use the following neural network (already implemented for you below). You don’t have to code anything here.\n",
    "This model can be used:\n",
    "- in *regularization mode* -- by setting the `lambd` input to a non-zero value. We use \"`lambd`\" instead of \"`lambda`\" because \"`lambda`\" is a reserved keyword in Python.\n",
    "- in *dropout mode* -- by setting the `keep_prob` to a value less than one\n",
    "\n",
    "You will first try the model without any regularization. Then, you will implement:\n",
    "- *L2 regularization* -- functions: \"`compute_cost_with_regularization()`\" and \"`backward_propagation_with_regularization()`\"\n",
    "- *Dropout* -- functions: \"`forward_propagation_with_dropout()`\" and \"`backward_propagation_with_dropout()`\"\n",
    "\n",
    "In each part, we will run this model with the correct inputs so that it calls the functions you've implemented. Take a look at the code below to familiarize yourself with the model."
   ],
   "metadata": {
    "collapsed": false,
    "pycharm": {
     "name": "#%% md\n"
    }
   }
  },
  {
   "cell_type": "code",
   "execution_count": null,
   "outputs": [],
   "source": [
    "def model(X: np.ndarray, Y: np.ndarray, learning_rate = 0.3, num_iterations = 30000, print_cost = True, lambd = 0, keep_prob = 1):\n",
    "    \"\"\"\n",
    "    Implements a three-layer neural network: LINEAR->RELU->LINEAR->RELU->LINEAR->SIGMOID.\n",
    "\n",
    "    :param X: input data, of shape (input size, number of examples)\n",
    "    :param Y: true \"label\" vector (1 for blue dot / 0 for red dot), of shape (output size, number of examples)\n",
    "    :param learning_rate: learning rate of the optimization\n",
    "    :param num_iterations: number of iterations of the optimization loop\n",
    "    :param print_cost: If True, print the cost every 10000 iterations\n",
    "    :param lambd: regularization hyperparameter, scalar\n",
    "    :param keep_prob: probability of keeping a neuron active during drop-out, scalar.\n",
    "\n",
    "    :return:\n",
    "        - parameters: parameters learned by the model. They can then be used to predict.\n",
    "    \"\"\"\n",
    "\n",
    "    grads = {}\n",
    "    costs = []                            # to keep track of the cost\n",
    "    m = X.shape[1]                        # number of examples\n",
    "    layers_dims = [X.shape[0], 20, 3, 1]\n",
    "\n",
    "    # Initialize parameters dictionary.\n",
    "    parameters = Utils.initialize_parameters(layers_dims)\n",
    "\n",
    "    # Loop (gradient descent)\n",
    "\n",
    "    for i in range(0, num_iterations):\n",
    "\n",
    "        # Forward propagation: LINEAR -> RELU -> LINEAR -> RELU -> LINEAR -> SIGMOID.\n",
    "        if keep_prob == 1:\n",
    "            a3, cache = Utils.forward_propagation(X, parameters)\n",
    "        elif keep_prob < 1:\n",
    "            a3, cache = forward_propagation_with_dropout(X, parameters, keep_prob)\n",
    "\n",
    "        # Cost function\n",
    "        if lambd == 0:\n",
    "            cost = Utils.compute_cost(a3, Y)\n",
    "        else:\n",
    "            cost = compute_cost_with_regularization(a3, Y, parameters, lambd)\n",
    "\n",
    "        # Backward propagation.\n",
    "        assert (lambd == 0 or keep_prob == 1)   # it is possible to use both L2 regularization and dropout,\n",
    "        # but this assignment will only explore one at a time\n",
    "        if lambd == 0 and keep_prob == 1:\n",
    "            grads = Utils.backward_propagation(X, Y, cache)\n",
    "        elif lambd != 0:\n",
    "            grads = backward_propagation_with_regularization(X, Y, cache, lambd)\n",
    "        elif keep_prob < 1:\n",
    "            grads = backward_propagation_with_dropout(X, Y, cache, keep_prob)\n",
    "\n",
    "        # Update parameters.\n",
    "        parameters = Utils.update_parameters(parameters, grads, learning_rate)\n",
    "\n",
    "        # Print the loss every 10000 iterations\n",
    "        if print_cost and i % 10000 == 0:\n",
    "            print(\"Cost after iteration {}: {}\".format(i, cost))\n",
    "        if print_cost and i % 1000 == 0:\n",
    "            costs.append(cost)\n",
    "\n",
    "    return parameters, costs"
   ],
   "metadata": {
    "collapsed": false,
    "pycharm": {
     "name": "#%%\n"
    }
   }
  },
  {
   "cell_type": "markdown",
   "source": [],
   "metadata": {
    "collapsed": false
   }
  },
  {
   "cell_type": "markdown",
   "source": [
    "<a name='6'></a>\n",
    "## 6 - Non-Regularized Model\n",
    "\n",
    "Let's train the model without any regularization, and observe the accuracy on the train/test sets."
   ],
   "metadata": {
    "collapsed": false,
    "pycharm": {
     "name": "#%% md\n"
    }
   }
  },
  {
   "cell_type": "code",
   "execution_count": null,
   "outputs": [],
   "source": [
    "# Initialize the parameters\n",
    "iterations = list(range(0, 30000, 1000))\n",
    "\n",
    "# Load the dataset\n",
    "data_path = '../data/data.mat'\n",
    "dataloader = DataLoader(data_path)\n",
    "train_X, train_Y, test_X, test_Y = dataloader.load_dataset()\n",
    "\n",
    "# Train the model\n",
    "parameters, costs = model(train_X, train_Y)\n",
    "\n",
    "# Plot training costs\n",
    "Visualization.plot_the_cost(iterations, costs)\n",
    "\n",
    "# Predict\n",
    "print(\"---\")\n",
    "_ = Utils.predict(train_X, train_Y, parameters, True)\n",
    "_ = Utils.predict(test_X, test_Y, parameters, False)\n",
    "\n",
    "# Plot decision boundaries\n",
    "decision_train = Utils.get_decision_boundary(lambda x: Utils.predict_dec(parameters, x.T), train_X, train_Y)\n",
    "decision_test = Utils.get_decision_boundary(lambda x: Utils.predict_dec(parameters, x.T), test_X, test_Y)\n",
    "\n",
    "Visualization.plot_decision_boundaries(decision_train, train_X, train_Y, decision_test, test_X, test_Y)"
   ],
   "metadata": {
    "collapsed": false,
    "pycharm": {
     "name": "#%%\n"
    }
   }
  },
  {
   "cell_type": "markdown",
   "source": [],
   "metadata": {
    "collapsed": false,
    "pycharm": {
     "name": "#%% md\n"
    }
   }
  },
  {
   "cell_type": "markdown",
   "source": [],
   "metadata": {
    "collapsed": false
   }
  },
  {
   "cell_type": "markdown",
   "source": [
    "<a name='6-1'></a>\n",
    "## 6.1 - Analyzing the Non-Regularized Model\n",
    "\n",
    "The train accuracy is **94.8%** while the test accuracy is **91.5%**.\n",
    "This is the baseline model (you will observe the impact of regularization on this model).\n",
    "Analyzing the decision boundary, we can see clearly that the non-regularized model is overfitting the training set. It is fitting the noisy points! Let's now look at two techniques to reduce overfitting."
   ],
   "metadata": {
    "collapsed": false,
    "pycharm": {
     "name": "#%% md\n"
    }
   }
  },
  {
   "cell_type": "markdown",
   "source": [
    "<a name='7'></a>\n",
    "## 7 - L2 Regularization \\[4 points\\]\n",
    "\n",
    "The standard way to avoid overfitting is called **L2 regularization**."
   ],
   "metadata": {
    "collapsed": false,
    "pycharm": {
     "name": "#%% md\n"
    }
   }
  },
  {
   "cell_type": "markdown",
   "source": [
    "<a name='7-1'></a>\n",
    "## 7.1 - Cost Function \\[2 points\\]\n",
    "\n",
    "L2 regularization consists of appropriately modifying your cost function, from:\n",
    "$$J = -\\frac{1}{m} \\sum\\limits_{i = 1}^{m} \\large{(}\\small  y^{(i)}\\log\\left(a^{[L](i)}\\right) + (1-y^{(i)})\\log\\left(1- a^{[L](i)}\\right) \\large{)}$$\n",
    "To:\n",
    "$$J_{regularized} = \\small \\underbrace{-\\frac{1}{m} \\sum\\limits_{i = 1}^{m} \\large{(}\\small y^{(i)}\\log\\left(a^{[L](i)}\\right) + (1-y^{(i)})\\log\\left(1- a^{[L](i)}\\right) \\large{)} }_\\text{cross-entropy cost} + \\underbrace{\\frac{1}{m} \\frac{\\lambda}{2} \\sum\\limits_l\\sum\\limits_k\\sum\\limits_j W_{k,j}^{[l]2} }_\\text{L2 regularization cost}$$\n",
    "\n",
    "Let's modify your cost and observe the consequences.\n",
    "\n",
    "<b><span style=\"color:teal\">TODO:</span> <b>\n",
    "<ol>\n",
    "<li><span style=\"color:teal\">Implement the method <span style=\"color:#DC143C\"><em>compute_cost_with_regularization</em></span> which computes the cost given by the second formula.</span></li>\n",
    "</ol>\n",
    "\n",
    "<b><span style=\"color:#B8860B\">Hints:</span> <b>\n",
    "<dl>\n",
    "<dd><span style=\"color:#B8860B\">- To calculate $\\sum\\limits_k\\sum\\limits_j W_{k,j}^{[l]2}$  , use \"np.sum(np.square(Wl))\"</span></dd>\n",
    "<dd><span style=\"color:#B8860B\">- Note that you have to do this for $W^{[1]}$, $W^{[2]}$ and $W^{[3]}$, then sum the three terms and multiply by $ \\frac{1}{m} \\frac{\\lambda}{2} $.</span></dd>\n",
    "</dl>"
   ],
   "metadata": {
    "collapsed": false,
    "pycharm": {
     "name": "#%% md\n"
    }
   }
  },
  {
   "cell_type": "code",
   "execution_count": null,
   "outputs": [],
   "source": [
    "def compute_cost_with_regularization(A3, Y, parameters, lambd):\n",
    "    \"\"\"\n",
    "    Implement the cost function with L2 regularization. See formula (2) above.\n",
    "\n",
    "    :param A3: post-activation, output of forward propagation, of shape (output size, number of examples)\n",
    "    :param Y: \"true\" labels vector, of shape (output size, number of examples)\n",
    "    :param parameters: python dictionary containing parameters of the model\n",
    "    :param lambd: regularization hyperparameter, scalar\n",
    "\n",
    "    :return:\n",
    "        - cost: value of the regularized loss function (formula (2))\n",
    "    \"\"\"\n",
    "\n",
    "    # Calculate the cross-entropy part of the cost\n",
    "    cross_entropy_cost = Utils.compute_cost(A3, Y)\n",
    "\n",
    "    L2_regularization_cost = 0\n",
    "    #############################################################################\n",
    "    #                            START OF YOUR CODE                             #\n",
    "    # TODO:                                                                     #\n",
    "    #    1) Calculate the L2 regularization cost.                               #\n",
    "    #                                                                           #\n",
    "    # Hints:                                                                    #\n",
    "    #    - Use np.sum(np.square(Wl)) when appropriate.                          #\n",
    "    #############################################################################\n",
    "\n",
    "\n",
    "    #############################################################################\n",
    "    #                              END OF YOUR CODE                             #\n",
    "    #############################################################################\n",
    "\n",
    "    cost = cross_entropy_cost + L2_regularization_cost\n",
    "\n",
    "    return cost"
   ],
   "metadata": {
    "collapsed": false,
    "pycharm": {
     "name": "#%%\n"
    }
   }
  },
  {
   "cell_type": "code",
   "execution_count": null,
   "outputs": [],
   "source": [
    "# Test your code\n",
    "\n",
    "!python ./tests/test_regularization.py --test_case TestCostL2Regularization"
   ],
   "metadata": {
    "collapsed": false,
    "pycharm": {
     "name": "#%%\n"
    }
   }
  },
  {
   "cell_type": "markdown",
   "source": [],
   "metadata": {
    "collapsed": false
   }
  },
  {
   "cell_type": "markdown",
   "source": [
    "<a name='7-2'></a>\n",
    "## 7.2 - Backward Propagation with Regularization \\[2 points\\]\n",
    "\n",
    "Since we have changed the cost calculation, we have to change the backward propagation as well! All the gradients have to be computed with respect to this new cost.\n",
    "\n",
    "<b><span style=\"color:teal\">TODO:</span> <b>\n",
    "<ol>\n",
    "<li><span style=\"color:teal\">Implement the method <span style=\"color:#DC143C\"><em>backward_propagation_with_regularization</em></span> which applies the changes needed in backward propagation to take regularization into account.</span></li>\n",
    "</ol>\n",
    "\n",
    "<b><span style=\"color:#B8860B\">Hints:</span> <b>\n",
    "<dl>\n",
    "<dd><span style=\"color:#B8860B\">- The changes only concern dW1, dW2 and dW3.</span></dd>\n",
    "<dd><span style=\"color:#B8860B\">- For each, you have to add the regularization term's gradient ($\\frac{d}{dW} ( \\frac{1}{2}\\frac{\\lambda}{m}  W^2) = \\frac{\\lambda}{m} W$).</span></dd>\n",
    "</dl>"
   ],
   "metadata": {
    "collapsed": false,
    "pycharm": {
     "name": "#%% md\n"
    }
   }
  },
  {
   "cell_type": "code",
   "execution_count": null,
   "outputs": [],
   "source": [
    "def backward_propagation_with_regularization(X, Y, cache, lambd):\n",
    "    \"\"\"\n",
    "    Implements the backward propagation of our baseline model to which we added an L2 regularization.\n",
    "\n",
    "    :param X: input dataset, of shape (input size, number of examples).\n",
    "    :param Y: \"true\" labels vector, of shape (output size, number of examples).\n",
    "    :param cache: cache output from forward_propagation().\n",
    "    :param lambd: regularization hyperparameter, scalar.\n",
    "\n",
    "    :return:\n",
    "        - gradients: A dictionary with the gradients with respect to each parameter, activation and pre-activation variables.\n",
    "    \"\"\"\n",
    "\n",
    "    m = X.shape[1]\n",
    "    (Z1, A1, W1, b1, Z2, A2, W2, b2, Z3, A3, W3, b3) = cache\n",
    "\n",
    "    dZ3 = A3 - Y\n",
    "\n",
    "    dW3 = 0\n",
    "    #############################################################################\n",
    "    #                            START OF YOUR CODE                             #\n",
    "    # TODO:                                                                     #\n",
    "    #    1) Include the regularization in the calculation of dW3.               #\n",
    "    #############################################################################\n",
    "\n",
    "\n",
    "    #############################################################################\n",
    "    #                              END OF YOUR CODE                             #\n",
    "    #############################################################################\n",
    "\n",
    "    db3 = 1. / m * np.sum(dZ3, axis=1, keepdims=True)\n",
    "\n",
    "    dA2 = np.dot(W3.T, dZ3)\n",
    "    dZ2 = np.multiply(dA2, np.int64(A2 > 0))\n",
    "\n",
    "    dW2 = 0\n",
    "    #############################################################################\n",
    "    #                            START OF YOUR CODE                             #\n",
    "    # TODO:                                                                     #\n",
    "    #    1) Include the regularization in the calculation of dW2.               #\n",
    "    #############################################################################\n",
    "\n",
    "\n",
    "    #############################################################################\n",
    "    #                              END OF YOUR CODE                             #\n",
    "    #############################################################################\n",
    "\n",
    "    db2 = 1. / m * np.sum(dZ2, axis=1, keepdims=True)\n",
    "\n",
    "    dA1 = np.dot(W2.T, dZ2)\n",
    "    dZ1 = np.multiply(dA1, np.int64(A1 > 0))\n",
    "\n",
    "    dW1 = 0\n",
    "    #############################################################################\n",
    "    #                            START OF YOUR CODE                             #\n",
    "    # TODO:                                                                     #\n",
    "    #    1) Include the regularization in the calculation of dW1.               #\n",
    "    #############################################################################\n",
    "\n",
    "\n",
    "    #############################################################################\n",
    "    #                              END OF YOUR CODE                             #\n",
    "    #############################################################################\n",
    "\n",
    "    db1 = 1. / m * np.sum(dZ1, axis=1, keepdims=True)\n",
    "\n",
    "    gradients = {\"dZ3\": dZ3, \"dW3\": dW3, \"db3\": db3,\"dA2\": dA2,\n",
    "                 \"dZ2\": dZ2, \"dW2\": dW2, \"db2\": db2, \"dA1\": dA1,\n",
    "                 \"dZ1\": dZ1, \"dW1\": dW1, \"db1\": db1}\n",
    "\n",
    "    return gradients"
   ],
   "metadata": {
    "collapsed": false,
    "pycharm": {
     "name": "#%%\n"
    }
   }
  },
  {
   "cell_type": "code",
   "execution_count": null,
   "outputs": [],
   "source": [
    "# Test your code\n",
    "\n",
    "!python ./tests/test_regularization.py --test_case TestBackpropagationWithL2Regularization"
   ],
   "metadata": {
    "collapsed": false,
    "pycharm": {
     "name": "#%%\n"
    }
   }
  },
  {
   "cell_type": "markdown",
   "source": [],
   "metadata": {
    "collapsed": false
   }
  },
  {
   "cell_type": "markdown",
   "source": [
    "<a name='7-3'></a>\n",
    "## 7.3 - Let's now run the model with L2 regularization\n",
    "\n",
    "We will use $\\lambda = 0.91$ for this."
   ],
   "metadata": {
    "collapsed": false,
    "pycharm": {
     "name": "#%% md\n"
    }
   }
  },
  {
   "cell_type": "code",
   "execution_count": null,
   "outputs": [],
   "source": [
    "# Initialize the parameters\n",
    "lambd = 0.91\n",
    "iterations = list(range(0, 30000, 1000))\n",
    "\n",
    "# Load the dataset\n",
    "data_path = '../data/data.mat'\n",
    "dataloader = DataLoader(data_path)\n",
    "train_X, train_Y, test_X, test_Y = dataloader.load_dataset()\n",
    "\n",
    "# Train the model\n",
    "parameters, costs = model(train_X, train_Y, lambd)\n",
    "\n",
    "# Plot training costs\n",
    "Visualization.plot_the_cost(iterations, costs)\n",
    "\n",
    "# Predict\n",
    "print(\"---\")\n",
    "_ = Utils.predict(train_X, train_Y, parameters, True)\n",
    "_ = Utils.predict(test_X, test_Y, parameters, False)\n",
    "\n",
    "# Plot decision boundaries\n",
    "decision_train = Utils.get_decision_boundary(lambda x: Utils.predict_dec(parameters, x.T), train_X, train_Y)\n",
    "decision_test = Utils.get_decision_boundary(lambda x: Utils.predict_dec(parameters, x.T), test_X, test_Y)\n",
    "\n",
    "Visualization.plot_decision_boundaries(decision_train, train_X, train_Y, decision_test, test_X, test_Y)"
   ],
   "metadata": {
    "collapsed": false,
    "pycharm": {
     "name": "#%%\n"
    }
   }
  },
  {
   "cell_type": "markdown",
   "source": [],
   "metadata": {
    "collapsed": false
   }
  },
  {
   "cell_type": "markdown",
   "source": [
    "<a name='7-4'></a>\n",
    "## 7.4 - Analyzing L2 regularization\n",
    "Congrats, the test set accuracy increased to 93%. You have saved the French football team!\n",
    "The training and test accuracy are both high and very similar. Therefore, you are not overfitting the training data anymore. This can also be seen when analyzing the decision boundary!\n",
    "\n",
    "**Observations**:\n",
    "- The value of $\\lambda$ is a hyperparameter that you can tune using a dev set.\n",
    "- L2 regularization makes your decision boundary smoother. If $\\lambda$ is too large, it is also possible to \"oversmooth\", resulting in a model with high bias.\n",
    "\n",
    "\n",
    "**What is L2-regularization actually doing?**:\n",
    "- L2-regularization relies on the assumption that a model with small weights is simpler than a model with large weights.\n",
    "- By penalizing the square values of the weights in the cost function you drive all the weights to smaller values.\n",
    "- Having large weights becomes too costly for the cost!\n",
    "- This leads to a smoother model in which the output changes more slowly as the input changes.\n",
    "\n",
    "\n",
    "**What you should remember:** the implications of L2-regularization on:\n",
    "- The cost computation: A regularization term is added to the cost.\n",
    "- The backpropagation function: There are extra terms in the gradients with respect to weight matrices.\n",
    "- Weights end up smaller (\"weight decay\"): Weights are pushed to smaller values."
   ],
   "metadata": {
    "collapsed": false,
    "pycharm": {
     "name": "#%% md\n"
    }
   }
  },
  {
   "cell_type": "markdown",
   "source": [
    "<a name='8'></a>\n",
    "## 8 - Dropout \\[4 points\\]\n",
    "\n",
    "Finally, **dropout** is a widely used regularization technique that is specific to deep learning.\n",
    "\n",
    "To understand drop-out, consider this conversation with a friend:\n",
    "- Friend: \"Why do you need all these neurons to train your network and classify images?\".\n",
    "- You: \"Because each neuron contains a weight and can learn specific features/details/shape of an image. The more neurons I have, the more featurse my model learns!\"\n",
    "- Friend: \"I see, but are you sure that your neurons are learning different features and not all the same features?\"\n",
    "- You: \"Good point... Neurons in the same layer actually don't talk to each other. It should be definitly possible that they learn the same image features/shapes/forms/details... which would be redundant. There should be a solution.\"\n",
    "\n",
    "<div>\n",
    "<video src=\"../img/dropout1_kiank.mp4\" width=\"700\"/>\n",
    "</div>\n",
    "\n",
    "**Dropout randomly shuts down some neurons in each iteration.** Watch these two videos **dropout1_kiank.mp4** and  **dropout2_kiank.mp4** within the \"img\"-folder to see what this means exactly.\n",
    "At each iteration, you shut down (= set to zero) each neuron of a layer with probability $1 - keep\\_prob$ or keep it with probability $keep\\_prob$ (50% here). The dropped neurons don't contribute to the training in both the forward and backward propagations of the iteration.\n",
    "\n",
    "When you shut some neurons down, you actually modify your model. The idea behind drop-out is that at each iteration, you train a different model that uses only a subset of your neurons. With dropout, your neurons thus become less sensitive to the activation of one other specific neuron, because that other neuron might be shut down at any time."
   ],
   "metadata": {
    "collapsed": false,
    "pycharm": {
     "name": "#%% md\n"
    }
   }
  },
  {
   "cell_type": "markdown",
   "source": [
    "<a name='8-1'></a>\n",
    "## 8.1 - Forward Propagation with Dropout \\[2 points\\]\n",
    "\n",
    "Implement the forward propagation with dropout. You are using a 3 layer neural network, and will add dropout to the first and second hidden layers. We will not apply dropout to the input layer or output layer.\n",
    "\n",
    "\n",
    "<b><span style=\"color:teal\">TODO:</span> <b>\n",
    "<ol>\n",
    "<li><span style=\"color:teal\">Implement the method <span style=\"color:#DC143C\"><em>forward_propagation_with_dropout</em></span> which includes dropout into the forward pass of the model.</span></li>\n",
    "<ol>\n",
    "<li><span style=\"color:teal\">We know that we can create a variable $d^{[1]}$ with the same shape as $a^{[1]}$ using `np.random.rand()` to randomly get numbers between 0 and 1. Here, you will use a vectorized implementation, so create a random matrix $D^{[1]} = [d^{[1](1)} d^{[1](2)} ... d^{[1](m)}] $ of the same dimension as $A^{[1]}$.</span></li>\n",
    "\n",
    "<li><span style=\"color:teal\">Set each entry of $D^{[1]}$ to be 1 with probability (`keep_prob`), and 0 otherwise.</span></li>\n",
    "\n",
    "<li><span style=\"color:teal\">Set $A^{[1]}$ to $A^{[1]} * D^{[1]}$. (You are shutting down some neurons). You can think of $D^{[1]}$ as a mask, so that when it is multiplied with another matrix, it shuts down some of the values.</span></li>\n",
    "\n",
    "<li><span style=\"color:teal\">Divide $A^{[1]}$ by `keep_prob`. By doing this you are assuring that the result of the cost will still have the same expected value as without drop-out. (This technique is also called inverted dropout.)</span></li>\n",
    "</ol>\n",
    "</ol>\n",
    "\n",
    "**Hint:**\n",
    "Let's say that keep_prob = 0.8, which means that we want to keep about 80% of the neurons and drop out about 20% of them.  We want to generate a vector that has 1's and 0's, where about 80% of them are 1 and about 20% are 0. This python statement: `X = (X < keep_prob).astype(int)` is conceptually the same as this if-else statement (for the simple case of a one-dimensional array) :\n",
    "```\n",
    "for i,v in enumerate(x):\n",
    "    if v < keep_prob:\n",
    "        x[i] = 1\n",
    "    else: # v >= keep_prob\n",
    "        x[i] = 0\n",
    "```\n",
    "Note that the `X = (X < keep_prob).astype(int)` works with multi-dimensional arrays, and the resulting output preserves the dimensions of the input array.\n",
    "\n",
    "Also note that without using `.astype(int)`, the result is an array of booleans `True` and `False`, which Python automatically converts to 1 and 0 if we multiply it with numbers.  (However, it's better practice to convert data into the data type that we intend, so try using `.astype(int)`.)"
   ],
   "metadata": {
    "collapsed": false,
    "pycharm": {
     "name": "#%% md\n"
    }
   }
  },
  {
   "cell_type": "code",
   "execution_count": null,
   "outputs": [],
   "source": [
    "def forward_propagation_with_dropout(X, parameters, keep_prob = 0.5):\n",
    "    \"\"\"\n",
    "    Implements the forward propagation: LINEAR -> RELU + DROPOUT -> LINEAR -> RELU + DROPOUT -> LINEAR -> SIGMOID.\n",
    "\n",
    "    :param X: input dataset, of shape (2, number of examples).\n",
    "    :param parameters: python dictionary containing your parameters \"W1\", \"b1\", \"W2\", \"b2\", \"W3\", \"b3\".\n",
    "    :param keep_prob: probability of keeping a neuron active during drop-out, scalar.\n",
    "\n",
    "    :return:\n",
    "        - A3: last activation value, output of the forward propagation, of shape (1,1).\n",
    "        - cache: tuple, information stored for computing the backward propagation.\n",
    "    \"\"\"\n",
    "\n",
    "    np.random.seed(1)\n",
    "\n",
    "    # retrieve parameters\n",
    "    W1 = parameters[\"W1\"]\n",
    "    b1 = parameters[\"b1\"]\n",
    "    W2 = parameters[\"W2\"]\n",
    "    b2 = parameters[\"b2\"]\n",
    "    W3 = parameters[\"W3\"]\n",
    "    b3 = parameters[\"b3\"]\n",
    "\n",
    "    # LINEAR -> RELU -> LINEAR -> RELU -> LINEAR -> SIGMOID\n",
    "    Z1 = np.dot(W1, X) + b1\n",
    "    A1 = Utils.relu(Z1)\n",
    "\n",
    "    D1 = None\n",
    "    #############################################################################\n",
    "    #                            START OF YOUR CODE                             #\n",
    "    # TODO:                                                                     #\n",
    "    #    1) Initialize matrix D1                                                #\n",
    "    #    2) Convert entries of D1 to 0 or 1 (using keep_prob as the threshold)  #\n",
    "    #    3) Shut down some neurons of A1.                                       #\n",
    "    #    4) Scale the value of neurons that haven't been shut down.             #\n",
    "    #############################################################################\n",
    "\n",
    "\n",
    "    #############################################################################\n",
    "    #                              END OF YOUR CODE                             #\n",
    "    #############################################################################\n",
    "\n",
    "    Z2 = np.dot(W2, A1) + b2\n",
    "    A2 = Utils.relu(Z2)\n",
    "\n",
    "    D2 = None\n",
    "    #############################################################################\n",
    "    #                            START OF YOUR CODE                             #\n",
    "    # TODO:                                                                     #\n",
    "    #    1) Initialize matrix D2                                                #\n",
    "    #    2) Convert entries of D2 to 0 or 1 (using keep_prob as the threshold)  #\n",
    "    #    3) Shut down some neurons of A2.                                       #\n",
    "    #    4) Scale the value of neurons that haven't been shut down.             #\n",
    "    #############################################################################\n",
    "\n",
    "\n",
    "    #############################################################################\n",
    "    #                              END OF YOUR CODE                             #\n",
    "    #############################################################################\n",
    "\n",
    "    Z3 = np.dot(W3, A2) + b3\n",
    "    A3 = Utils.sigmoid(Z3)\n",
    "\n",
    "    cache = (Z1, D1, A1, W1, b1, Z2, D2, A2, W2, b2, Z3, A3, W3, b3)\n",
    "\n",
    "    return A3, cache"
   ],
   "metadata": {
    "collapsed": false,
    "pycharm": {
     "name": "#%%\n"
    }
   }
  },
  {
   "cell_type": "code",
   "execution_count": null,
   "outputs": [],
   "source": [
    "# Test your code\n",
    "\n",
    "!python ./tests/test_regularization.py --test_case TestForwardPropagationWithDropout"
   ],
   "metadata": {
    "collapsed": false,
    "pycharm": {
     "name": "#%%\n"
    }
   }
  },
  {
   "cell_type": "markdown",
   "source": [],
   "metadata": {
    "collapsed": false
   }
  },
  {
   "cell_type": "markdown",
   "source": [
    "<a name='8-2'></a>\n",
    "## 8.2 - Backward Propagation with Dropout \\[2 points\\]\n",
    "\n",
    "Implement the backward propagation with dropout. As before, you are training a 3 layer network. Add dropout to the first and second hidden layers, using the masks $D^{[1]}$ and $D^{[2]}$ stored in the cache.\n",
    "\n",
    "\n",
    "<b><span style=\"color:teal\">TODO:</span> <b>\n",
    "<ol>\n",
    "<li><span style=\"color:teal\">Implement the method <span style=\"color:#DC143C\"><em>backward_propagation_with_dropout</em></span> which includes dropout into the backward pass of the model.</span></li>\n",
    "<ol>\n",
    "<li><span style=\"color:teal\">You had previously shut down some neurons during forward propagation, by applying a mask $D^{[1]}$ to `A1`. In backpropagation, you will have to shut down the same neurons, by reapplying the same mask $D^{[1]}$ to `dA1`.</span></li>\n",
    "\n",
    "<li><span style=\"color:teal\">During forward propagation, you had divided `A1` by `keep_prob`. In backpropagation, you'll therefore have to divide `dA1` by `keep_prob` again (the calculus interpretation is that if $A^{[1]}$ is scaled by `keep_prob`, then its derivative $dA^{[1]}$ is also scaled by the same `keep_prob`).</span></li>\n",
    "</ol>\n",
    "</ol>"
   ],
   "metadata": {
    "collapsed": false,
    "pycharm": {
     "name": "#%% md\n"
    }
   }
  },
  {
   "cell_type": "code",
   "execution_count": null,
   "outputs": [],
   "source": [
    "def backward_propagation_with_dropout(X, Y, cache, keep_prob):\n",
    "    \"\"\"\n",
    "    Implements the backward propagation of our baseline model to which we added dropout.\n",
    "\n",
    "    Arguments:\n",
    "    :param X: input dataset, of shape (2, number of examples).\n",
    "    :param Y: \"true\" labels vector, of shape (output size, number of examples).\n",
    "    :param cache: cache output from forward_propagation_with_dropout().\n",
    "    :param keep_prob: probability of keeping a neuron active during drop-out, scalar.\n",
    "\n",
    "    :return:\n",
    "        - gradients: A dictionary with the gradients with respect to each parameter, activation and pre-activation variables.\n",
    "    \"\"\"\n",
    "\n",
    "    m = X.shape[1]\n",
    "    (Z1, D1, A1, W1, b1, Z2, D2, A2, W2, b2, Z3, A3, W3, b3) = cache\n",
    "\n",
    "    dZ3 = A3 - Y\n",
    "    dW3 = 1./m * np.dot(dZ3, A2.T)\n",
    "    db3 = 1./m * np.sum(dZ3, axis=1, keepdims=True)\n",
    "    dA2 = np.dot(W3.T, dZ3)\n",
    "\n",
    "    #############################################################################\n",
    "    #                            START OF YOUR CODE                             #\n",
    "    # TODO:                                                                     #\n",
    "    #    1) Apply mask D2 to shut down the same neurons of A2 as during the     #\n",
    "    #       forward propagation.                                                #\n",
    "    #    2) Scale the value of neurons that haven't been shut down.             #\n",
    "    #############################################################################\n",
    "\n",
    "\n",
    "    #############################################################################\n",
    "    #                              END OF YOUR CODE                             #\n",
    "    #############################################################################\n",
    "\n",
    "    dZ2 = np.multiply(dA2, np.int64(A2 > 0))\n",
    "    dW2 = 1./m * np.dot(dZ2, A1.T)\n",
    "    db2 = 1./m * np.sum(dZ2, axis=1, keepdims=True)\n",
    "\n",
    "    dA1 = np.dot(W2.T, dZ2)\n",
    "\n",
    "    #############################################################################\n",
    "    #                            START OF YOUR CODE                             #\n",
    "    # TODO:                                                                     #\n",
    "    #    1) Apply mask D1 to shut down the same neurons of A1 as during the     #\n",
    "    #       forward propagation.                                                #\n",
    "    #    2) Scale the value of neurons that haven't been shut down.             #\n",
    "    #############################################################################\n",
    "\n",
    "\n",
    "    #############################################################################\n",
    "    #                              END OF YOUR CODE                             #\n",
    "    #############################################################################\n",
    "\n",
    "    dZ1 = np.multiply(dA1, np.int64(A1 > 0))\n",
    "    dW1 = 1./m * np.dot(dZ1, X.T)\n",
    "    db1 = 1./m * np.sum(dZ1, axis=1, keepdims=True)\n",
    "\n",
    "    gradients = {\"dZ3\": dZ3, \"dW3\": dW3, \"db3\": db3,\"dA2\": dA2,\n",
    "                 \"dZ2\": dZ2, \"dW2\": dW2, \"db2\": db2, \"dA1\": dA1,\n",
    "                 \"dZ1\": dZ1, \"dW1\": dW1, \"db1\": db1}\n",
    "\n",
    "    return gradients"
   ],
   "metadata": {
    "collapsed": false,
    "pycharm": {
     "name": "#%%\n"
    }
   }
  },
  {
   "cell_type": "code",
   "execution_count": null,
   "outputs": [],
   "source": [
    "# Test your code\n",
    "\n",
    "!python ./tests/test_regularization.py --test_case TestBackpropagationWithDropout"
   ],
   "metadata": {
    "collapsed": false,
    "pycharm": {
     "name": "#%%\n"
    }
   }
  },
  {
   "cell_type": "markdown",
   "source": [],
   "metadata": {
    "collapsed": false
   }
  },
  {
   "cell_type": "markdown",
   "source": [
    "<a name='8-3'></a>\n",
    "## 8.3 - Let's now run the model with Dropout\n",
    "\n",
    "We will use $keep\\_prob = 0.86$ for this. It means at every iteration you shut down each neurons of layer 1 and 2 with 14% probability. Our function `model()` will now call:\n",
    "- `forward_propagation_with_dropout` instead of `forward_propagation`.\n",
    "- `backward_propagation_with_dropout` instead of `backward_propagation`."
   ],
   "metadata": {
    "collapsed": false,
    "pycharm": {
     "name": "#%% md\n"
    }
   }
  },
  {
   "cell_type": "code",
   "execution_count": null,
   "outputs": [],
   "source": [
    "# Initialize the parameters\n",
    "keep_prob = 0.86\n",
    "learning_rate = 0.3\n",
    "iterations = list(range(0, 30000, 1000))\n",
    "\n",
    "# Load the dataset\n",
    "data_path = '../data/data.mat'\n",
    "dataloader = DataLoader(data_path)\n",
    "train_X, train_Y, test_X, test_Y = dataloader.load_dataset()\n",
    "\n",
    "# Train the model\n",
    "parameters, costs = model(train_X, train_Y, keep_prob=keep_prob, learning_rate=learning_rate)\n",
    "\n",
    "# Plot training costs\n",
    "Visualization.plot_the_cost(iterations, costs)\n",
    "\n",
    "# Predict\n",
    "print(\"---\")\n",
    "_ = Utils.predict(train_X, train_Y, parameters, True)\n",
    "_ = Utils.predict(test_X, test_Y, parameters, False)\n",
    "\n",
    "# Plot decision boundaries\n",
    "decision_train = Utils.get_decision_boundary(lambda x: Utils.predict_dec(parameters, x.T), train_X, train_Y)\n",
    "decision_test = Utils.get_decision_boundary(lambda x: Utils.predict_dec(parameters, x.T), test_X, test_Y)\n",
    "\n",
    "Visualization.plot_decision_boundaries(decision_train, train_X, train_Y, decision_test, test_X, test_Y)"
   ],
   "metadata": {
    "collapsed": false,
    "pycharm": {
     "name": "#%%\n"
    }
   }
  },
  {
   "cell_type": "markdown",
   "source": [],
   "metadata": {
    "collapsed": false
   }
  },
  {
   "cell_type": "markdown",
   "source": [
    "<a name='8-4'></a>\n",
    "## 8.4 - Analyzing Dropout\n",
    "Dropout works great! The test accuracy has increased again (to 95%)! Your model is not overfitting the training set and does a great job on the test set. The French football team will be forever grateful to you!\n",
    "\n",
    "**Note**:\n",
    "- A **common mistake** when using dropout is to use it both in training and testing. You should use dropout (randomly eliminate nodes) only in training.\n",
    "- Deep learning frameworks like [PyTorch](https://pytorch.org/docs/stable/generated/torch.nn.Dropout.html), [tensorflow](https://www.tensorflow.org/api_docs/python/tf/nn/dropout), [PaddlePaddle](http://doc.paddlepaddle.org/release_doc/0.9.0/doc/ui/api/trainer_config_helpers/attrs.html), [keras](https://keras.io/layers/core/#dropout) or [caffe](http://caffe.berkeleyvision.org/tutorial/layers/dropout.html) come with a dropout layer implementation to ease or lives.\n",
    "\n",
    "**What you should remember about dropout:**\n",
    "- Dropout is a regularization technique.\n",
    "- You only use dropout during training. Don't use dropout (randomly eliminate nodes) during test time.\n",
    "- Apply dropout both during forward and backward propagation.\n",
    "- During training time, divide each dropout layer by keep_prob to keep the same expected value for the activations. For example, if keep_prob is 0.5, then we will on average shut down half the nodes, so the output will be scaled by 0.5 since only the remaining half are contributing to the solution. Dividing by 0.5 is equivalent to multiplying by 2. Hence, the output now has the same expected value. You can check that this works even when keep_prob is other values than 0.5."
   ],
   "metadata": {
    "collapsed": false,
    "pycharm": {
     "name": "#%% md\n"
    }
   }
  },
  {
   "cell_type": "markdown",
   "source": [
    "<a name='9'></a>\n",
    "## 9 - Conclusions\n",
    "\n",
    "**Here are the results of our three models**:\n",
    "\n",
    "<table>\n",
    "    <tr>\n",
    "        <td>\n",
    "        <b>model</b>\n",
    "        </td>\n",
    "        <td>\n",
    "        <b>train accuracy</b>\n",
    "        </td>\n",
    "        <td>\n",
    "        <b>test accuracy</b>\n",
    "        </td>\n",
    "    </tr>\n",
    "        <td>\n",
    "        3-layer NN without regularization\n",
    "        </td>\n",
    "        <td>\n",
    "        95%\n",
    "        </td>\n",
    "        <td>\n",
    "        91.5%\n",
    "        </td>\n",
    "    <tr>\n",
    "        <td>\n",
    "        3-layer NN with L2-regularization\n",
    "        </td>\n",
    "        <td>\n",
    "        94%\n",
    "        </td>\n",
    "        <td>\n",
    "        93%\n",
    "        </td>\n",
    "    </tr>\n",
    "    <tr>\n",
    "        <td>\n",
    "        3-layer NN with dropout\n",
    "        </td>\n",
    "        <td>\n",
    "        93%\n",
    "        </td>\n",
    "        <td>\n",
    "        95%\n",
    "        </td>\n",
    "    </tr>\n",
    "</table>"
   ],
   "metadata": {
    "collapsed": false,
    "pycharm": {
     "name": "#%% md\n"
    }
   }
  },
  {
   "cell_type": "markdown",
   "source": [
    "<a id='10'></a>\n",
    "## 10 - End of Exercise ##\n",
    "\n",
    "<div>\n",
    "<img src=\"../img/memes/meme_congrats_02.png\" width=\"700\"/>\n",
    "</div>\n",
    "\n",
    "Created with and licensed under [Adobe Express](https://www.adobe.com/de/express/)"
   ],
   "metadata": {
    "collapsed": false,
    "pycharm": {
     "name": "#%% md\n"
    }
   }
  },
  {
   "cell_type": "code",
   "execution_count": null,
   "outputs": [],
   "source": [],
   "metadata": {
    "collapsed": false,
    "pycharm": {
     "name": "#%%\n"
    }
   }
  }
 ],
 "metadata": {
  "coursera": {
   "course_slug": "deep-neural-network",
   "graded_item_id": "SXQaI",
   "launcher_item_id": "UAwhh"
  },
  "kernelspec": {
   "display_name": "Python 3",
   "language": "python",
   "name": "python3"
  },
  "language_info": {
   "codemirror_mode": {
    "name": "ipython",
    "version": 3
   },
   "file_extension": ".py",
   "mimetype": "text/x-python",
   "name": "python",
   "nbconvert_exporter": "python",
   "pygments_lexer": "ipython3",
   "version": "3.7.6"
  }
 },
 "nbformat": 4,
 "nbformat_minor": 2
}
